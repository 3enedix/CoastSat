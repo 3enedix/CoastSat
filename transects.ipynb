{
 "cells": [
  {
   "cell_type": "markdown",
   "id": "b9b7627c",
   "metadata": {},
   "source": [
    "## Automatically define shore-normal transects\n",
    "To be loaded into CoastSat as .geojson\n",
    "\n",
    "Vague idea: Something with shapely or PostGIS"
   ]
  },
  {
   "cell_type": "markdown",
   "id": "27532347",
   "metadata": {},
   "source": [
    "#### File History\n",
    "28.09.2022\n",
    "- Load the extracted shorelines (pkl)\n",
    "- Remove 'bad' shorelines from the dictionary\n",
    "\n",
    "#### ToDo\n",
    "\n",
    "- Compute a mean shoreline --- alternative from Luijendijk (2018): openstreetmap global coastline as reference\n",
    "- Check the number of segments\n",
    "- Define lines perpendicular to each segment\n",
    "    - e.g. in the middle of each segment\n",
    "    - or with a fixed spacing?"
   ]
  },
  {
   "cell_type": "code",
   "execution_count": 1,
   "id": "a068a0b5",
   "metadata": {},
   "outputs": [],
   "source": [
    "import pickle\n",
    "from datetime import datetime"
   ]
  },
  {
   "cell_type": "code",
   "execution_count": 2,
   "id": "4f84f017",
   "metadata": {},
   "outputs": [],
   "source": [
    "datapath = './data/TERS_L8_2018/'\n",
    "\n",
    "with open(datapath + 'TERS_L8_2018_output.pkl', 'rb') as f:\n",
    "    sds = pickle.load(f)"
   ]
  },
  {
   "cell_type": "markdown",
   "id": "ae4af04f",
   "metadata": {},
   "source": [
    "### Remove 'bad' shorelines from dict using their dates"
   ]
  },
  {
   "cell_type": "raw",
   "id": "b07c2582",
   "metadata": {},
   "source": [
    "# try 1\n",
    "# will just leave that here because I am glad I spent the time to find a way better solution\n",
    "for i in range(0, len(dates_all)):\n",
    "    if (dates_all[i].year == date_bad.year) \\\n",
    "    & (dates_all[i].month == date_bad.month) \\\n",
    "    & (dates_all[i].day == date_bad.day): #... better way?\n",
    "        print(dates_all[i])"
   ]
  },
  {
   "cell_type": "raw",
   "id": "7547b0c4",
   "metadata": {},
   "source": [
    "# try 2\n",
    "# find indices\n",
    "idx = []\n",
    "for date_bad in dates_bad:\n",
    "    idx.append(dates_all.index(date_bad))\n",
    "\n",
    "for key in sds:\n",
    "    for index in idx:\n",
    "        print(sds[key][index]) # goes through the keys -> remove ith element from each key"
   ]
  },
  {
   "cell_type": "markdown",
   "id": "411c0297",
   "metadata": {},
   "source": [
    "try 3, inspired by [this](https://www.geeksforgeeks.org/python-program-to-remove-nth-element-from-kth-keys-value-from-the-dictionary/)"
   ]
  },
  {
   "cell_type": "raw",
   "id": "4c863399",
   "metadata": {},
   "source": [
    "sds_clean = dict()\n",
    "\n",
    "for key, val in sds.items():\n",
    "    sds_clean[key] = (val if key != 'dates' else [idx for idx in val if idx.date() not in dates_bad])"
   ]
  },
  {
   "cell_type": "code",
   "execution_count": 3,
   "id": "2ed37728",
   "metadata": {},
   "outputs": [],
   "source": [
    "def remove_bad_shorelines(sds, dates_bad_list):\n",
    "    # round to dates to make them comparable\n",
    "    dates_bad = [i.date() for i in dates_bad_list] # they call it list comprehension\n",
    "    dates_all = [i.date() for i in sds[\"dates\"]]\n",
    "    \n",
    "    sds_clean = dict()\n",
    "\n",
    "    for key, val in sds.items():\n",
    "        sds_clean[key] = (val if key != 'dates' else [idx for idx in val if idx.date() not in dates_bad])\n",
    "    return sds_clean"
   ]
  },
  {
   "cell_type": "code",
   "execution_count": 4,
   "id": "f7e775ea",
   "metadata": {},
   "outputs": [],
   "source": [
    "dates_bad_list = [datetime(2018,7,10), datetime(2018,9,3)]\n",
    "sds_clean = remove_bad_shorelines(sds, dates_bad_list)"
   ]
  },
  {
   "cell_type": "markdown",
   "id": "1be26170",
   "metadata": {},
   "source": [
    "### Average the extracted shorelines\n",
    "Did not find a quick solution with shape or PostGIS\n",
    "\n",
    "Might be an overkill, maybe the reference shoreline or a shoreline from an external dataset (Luijendijk (2018) use OpenStreetMap for this) would be sufficient."
   ]
  },
  {
   "cell_type": "code",
   "execution_count": 10,
   "id": "73f0f5bc",
   "metadata": {},
   "outputs": [
    {
     "data": {
      "text/plain": [
       "dict_keys(['dates', 'shorelines', 'filename', 'cloud_cover', 'geoaccuracy', 'idx', 'MNDWI_threshold', 'satname'])"
      ]
     },
     "execution_count": 10,
     "metadata": {},
     "output_type": "execute_result"
    }
   ],
   "source": [
    "sds_clean.keys()"
   ]
  },
  {
   "cell_type": "code",
   "execution_count": 13,
   "id": "630d3061",
   "metadata": {
    "scrolled": true
   },
   "outputs": [
    {
     "name": "stdout",
     "output_type": "stream",
     "text": [
      "1303\n",
      "1490\n",
      "1121\n",
      "1481\n",
      "1485\n",
      "1623\n",
      "1491\n",
      "1480\n",
      "1515\n",
      "1482\n",
      "744\n",
      "1480\n",
      "1125\n",
      "1461\n",
      "1474\n",
      "1426\n",
      "1319\n"
     ]
    }
   ],
   "source": [
    "for i in range(0, len(sds_clean['shorelines'])):\n",
    "    print(len(sds_clean['shorelines'][i]))"
   ]
  },
  {
   "cell_type": "markdown",
   "id": "bc23e3c4",
   "metadata": {},
   "source": [
    "Number of points per shoreline is not equalized. Therefore no matching pairs of points. Define areas and average the points that fall in one area. The area size influences the resulting segment length. Areas should not be like grid boxes, but rather search circles around the points of one arbitrary shoreline. Search circle too small: Not all shorelines considered. Search circle too large: Segments become large, lower number of transects.\n",
    "\n",
    "Would maybe be a good idea to first correct the shorelines for tides."
   ]
  }
 ],
 "metadata": {
  "kernelspec": {
   "display_name": "Python 3 (ipykernel)",
   "language": "python",
   "name": "python3"
  },
  "language_info": {
   "codemirror_mode": {
    "name": "ipython",
    "version": 3
   },
   "file_extension": ".py",
   "mimetype": "text/x-python",
   "name": "python",
   "nbconvert_exporter": "python",
   "pygments_lexer": "ipython3",
   "version": "3.8.13"
  }
 },
 "nbformat": 4,
 "nbformat_minor": 5
}
