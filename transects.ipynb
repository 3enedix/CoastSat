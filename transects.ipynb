{
 "cells": [
  {
   "cell_type": "markdown",
   "id": "b9b7627c",
   "metadata": {},
   "source": [
    "## Automatically define shore-normal transects\n",
    "To be loaded into CoastSat as .geojson\n",
    "\n",
    "Vague idea: Something with shapely or PostGIS"
   ]
  },
  {
   "cell_type": "markdown",
   "id": "27532347",
   "metadata": {},
   "source": [
    "#### File History\n",
    "28.09.2022\n",
    "- Load the extracted shorelines (pkl)\n",
    "\n",
    "#### ToDo\n",
    "- Remove bad shorelines\n",
    "- Compute a mean shoreline\n",
    "- Check the number of segments\n",
    "- Define lines perpendicular to each segment\n",
    "    - e.g. in the middle of each segment\n",
    "    - or with a fixed spacing?"
   ]
  },
  {
   "cell_type": "code",
   "execution_count": 10,
   "id": "a068a0b5",
   "metadata": {},
   "outputs": [],
   "source": [
    "import pickle\n",
    "from datetime import datetime"
   ]
  },
  {
   "cell_type": "code",
   "execution_count": 2,
   "id": "4f84f017",
   "metadata": {},
   "outputs": [],
   "source": [
    "datapath = './data/TERS_L8_2018/'"
   ]
  },
  {
   "cell_type": "code",
   "execution_count": 4,
   "id": "8e5f9781",
   "metadata": {},
   "outputs": [],
   "source": [
    "with open(datapath + 'TERS_L8_2018_output.pkl', 'rb') as f:\n",
    "    sds = pickle.load(f)"
   ]
  },
  {
   "cell_type": "code",
   "execution_count": 6,
   "id": "84c74512",
   "metadata": {
    "scrolled": true
   },
   "outputs": [
    {
     "data": {
      "text/plain": [
       "[datetime.datetime(2018, 2, 16, 10, 33, 15, tzinfo=<UTC>),\n",
       " datetime.datetime(2018, 2, 23, 10, 39, 23, tzinfo=<UTC>),\n",
       " datetime.datetime(2018, 3, 20, 10, 32, 59, tzinfo=<UTC>),\n",
       " datetime.datetime(2018, 4, 21, 10, 32, 42, tzinfo=<UTC>),\n",
       " datetime.datetime(2018, 5, 7, 10, 32, 33, tzinfo=<UTC>),\n",
       " datetime.datetime(2018, 5, 14, 10, 38, 39, tzinfo=<UTC>),\n",
       " datetime.datetime(2018, 5, 23, 10, 32, 22, tzinfo=<UTC>),\n",
       " datetime.datetime(2018, 5, 30, 10, 38, 26, tzinfo=<UTC>),\n",
       " datetime.datetime(2018, 6, 15, 10, 38, 31, tzinfo=<UTC>),\n",
       " datetime.datetime(2018, 7, 1, 10, 38, 41, tzinfo=<UTC>),\n",
       " datetime.datetime(2018, 7, 10, 10, 32, 35, tzinfo=<UTC>),\n",
       " datetime.datetime(2018, 8, 2, 10, 38, 56, tzinfo=<UTC>),\n",
       " datetime.datetime(2018, 9, 3, 10, 39, 12, tzinfo=<UTC>),\n",
       " datetime.datetime(2018, 9, 19, 10, 39, 16, tzinfo=<UTC>),\n",
       " datetime.datetime(2018, 10, 5, 10, 39, 24, tzinfo=<UTC>),\n",
       " datetime.datetime(2018, 10, 14, 10, 33, 17, tzinfo=<UTC>),\n",
       " datetime.datetime(2018, 11, 6, 10, 39, 33, tzinfo=<UTC>)]"
      ]
     },
     "execution_count": 6,
     "metadata": {},
     "output_type": "execute_result"
    }
   ],
   "source": [
    "sds['dates']"
   ]
  },
  {
   "cell_type": "code",
   "execution_count": 58,
   "id": "d57ebc15",
   "metadata": {},
   "outputs": [],
   "source": [
    "dates_bad_list = [datetime(2018,7,10), datetime(2018,9,3)]\n",
    "# round to dates to make them comparable\n",
    "dates_bad = [i.date() for i in dates_bad_list] # they call it list comprehension\n",
    "dates_all = [i.date() for i in sds[\"dates\"]]\n",
    "\n",
    "# find indices\n",
    "idx = []\n",
    "for date_bad in dates_bad:\n",
    "    idx.append(dates_all.index(date_bad))"
   ]
  },
  {
   "cell_type": "code",
   "execution_count": null,
   "id": "1ac8d4f8",
   "metadata": {},
   "outputs": [],
   "source": [
    "for key in sds:\n",
    "    for index in idx:\n",
    "        print(sds[key][index]) # goes through the keys -> remove ith element from each key"
   ]
  },
  {
   "cell_type": "raw",
   "id": "9f0a6657",
   "metadata": {},
   "source": [
    "# will just leave that here because I am glad I spent the time to find a way better solution\n",
    "for i in range(0, len(dates_all)):\n",
    "    if (dates_all[i].year == date_bad.year) \\\n",
    "    & (dates_all[i].month == date_bad.month) \\\n",
    "    & (dates_all[i].day == date_bad.day): #... better way?\n",
    "        print(dates_all[i])"
   ]
  },
  {
   "cell_type": "markdown",
   "id": "411c0297",
   "metadata": {},
   "source": [
    "wait, maybe it works even easier (inspired by [this](https://www.geeksforgeeks.org/python-program-to-remove-nth-element-from-kth-keys-value-from-the-dictionary/))"
   ]
  },
  {
   "cell_type": "code",
   "execution_count": 89,
   "id": "5e972b87",
   "metadata": {},
   "outputs": [],
   "source": [
    "sds_clean = dict()\n",
    "\n",
    "for key, val in sds.items():\n",
    "    sds_clean[key] = (val if key != 'dates' else [idx for idx in val if idx.date() not in dates_bad])"
   ]
  },
  {
   "cell_type": "code",
   "execution_count": 90,
   "id": "5f316076",
   "metadata": {
    "scrolled": true
   },
   "outputs": [
    {
     "data": {
      "text/plain": [
       "[datetime.datetime(2018, 2, 16, 10, 33, 15, tzinfo=<UTC>),\n",
       " datetime.datetime(2018, 2, 23, 10, 39, 23, tzinfo=<UTC>),\n",
       " datetime.datetime(2018, 3, 20, 10, 32, 59, tzinfo=<UTC>),\n",
       " datetime.datetime(2018, 4, 21, 10, 32, 42, tzinfo=<UTC>),\n",
       " datetime.datetime(2018, 5, 7, 10, 32, 33, tzinfo=<UTC>),\n",
       " datetime.datetime(2018, 5, 14, 10, 38, 39, tzinfo=<UTC>),\n",
       " datetime.datetime(2018, 5, 23, 10, 32, 22, tzinfo=<UTC>),\n",
       " datetime.datetime(2018, 5, 30, 10, 38, 26, tzinfo=<UTC>),\n",
       " datetime.datetime(2018, 6, 15, 10, 38, 31, tzinfo=<UTC>),\n",
       " datetime.datetime(2018, 7, 1, 10, 38, 41, tzinfo=<UTC>),\n",
       " datetime.datetime(2018, 8, 2, 10, 38, 56, tzinfo=<UTC>),\n",
       " datetime.datetime(2018, 9, 19, 10, 39, 16, tzinfo=<UTC>),\n",
       " datetime.datetime(2018, 10, 5, 10, 39, 24, tzinfo=<UTC>),\n",
       " datetime.datetime(2018, 10, 14, 10, 33, 17, tzinfo=<UTC>),\n",
       " datetime.datetime(2018, 11, 6, 10, 39, 33, tzinfo=<UTC>)]"
      ]
     },
     "execution_count": 90,
     "metadata": {},
     "output_type": "execute_result"
    }
   ],
   "source": [
    "sds_clean['dates']"
   ]
  }
 ],
 "metadata": {
  "kernelspec": {
   "display_name": "Python 3 (ipykernel)",
   "language": "python",
   "name": "python3"
  },
  "language_info": {
   "codemirror_mode": {
    "name": "ipython",
    "version": 3
   },
   "file_extension": ".py",
   "mimetype": "text/x-python",
   "name": "python",
   "nbconvert_exporter": "python",
   "pygments_lexer": "ipython3",
   "version": "3.8.13"
  }
 },
 "nbformat": 4,
 "nbformat_minor": 5
}
